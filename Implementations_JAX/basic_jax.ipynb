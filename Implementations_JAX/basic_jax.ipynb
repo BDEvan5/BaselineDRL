{
 "cells": [
  {
   "cell_type": "code",
   "execution_count": 4,
   "metadata": {},
   "outputs": [],
   "source": [
    "import jax.numpy as jnp \n",
    "import jax\n",
    "import flax.linen as nn\n",
    "import numpy as np\n",
    "import optax\n",
    "import matplotlib.pyplot as plt\n"
   ]
  },
  {
   "cell_type": "code",
   "execution_count": 5,
   "metadata": {},
   "outputs": [
    {
     "data": {
      "text/plain": [
       "<matplotlib.collections.PathCollection at 0x14b22d970>"
      ]
     },
     "execution_count": 5,
     "metadata": {},
     "output_type": "execute_result"
    },
    {
     "data": {
      "image/png": "[encoded data removed]",
      "text/plain": [
       "<Figure size 640x480 with 1 Axes>"
      ]
     },
     "metadata": {},
     "output_type": "display_data"
    }
   ],
   "source": [
    "\n",
    "xs = np.linspace(0, 10, 100)\n",
    "ys = xs * 2 - 3\n",
    "ys += np.random.normal(0, 1, 100)\n",
    "\n",
    "plt.scatter(xs, ys)\n"
   ]
  },
  {
   "cell_type": "code",
   "execution_count": 40,
   "metadata": {},
   "outputs": [],
   "source": [
    "\n",
    "n_train = 60\n",
    "x_train, y_train = xs[:n_train], ys[:n_train]\n",
    "x_test, y_test = xs[n_train:], ys[n_train:]"
   ]
  },
  {
   "cell_type": "code",
   "execution_count": 37,
   "metadata": {},
   "outputs": [
    {
     "name": "stdout",
     "output_type": "stream",
     "text": [
      "Y experiment: [[-1.0212523]\n",
      " [-1.0212523]\n",
      " [-1.0212523]\n",
      " [-1.0212523]\n",
      " [-1.0212523]]\n"
     ]
    }
   ],
   "source": [
    "class TestNetwork(nn.Module):\n",
    "\n",
    "    @nn.compact\n",
    "    def __call__(self, x):\n",
    "        x = nn.Dense(4)(x)\n",
    "        x = nn.Dense(1)(x)\n",
    "        return x\n",
    "\n",
    "model = TestNetwork()\n",
    "rng = jax.random.key(0)\n",
    "params = model.init(rng, jnp.ones([1]))\n",
    "# params = model.init(rng, jnp.ones([5, 1]))\n",
    "\n",
    "x_ex = jnp.ones(5) * 4\n",
    "x_ex = x_ex.reshape(5, 1)\n",
    "# x_ex = jnp.ones(5) * 4\n",
    "y_ex = model.apply(params, x_ex)\n",
    "print(f\"Y experiment: {y_ex}\")"
   ]
  },
  {
   "cell_type": "code",
   "execution_count": 19,
   "metadata": {},
   "outputs": [
    {
     "name": "stdout",
     "output_type": "stream",
     "text": [
      "[[0. 0. 0. 0. 0. 0. 0. 0. 0. 0.]\n",
      " [0. 0. 0. 0. 0. 0. 0. 0. 0. 0.]\n",
      " [0. 0. 0. 0. 0. 0. 0. 0. 0. 0.]\n",
      " [0. 0. 0. 0. 0. 0. 0. 0. 0. 0.]]\n"
     ]
    }
   ],
   "source": [
    "\n"
   ]
  },
  {
   "cell_type": "code",
   "execution_count": 73,
   "metadata": {},
   "outputs": [
    {
     "name": "stdout",
     "output_type": "stream",
     "text": [
      "Epoch 0 | Loss: 74.25962829589844\n",
      "Epoch 20 | Loss: 8.79385757446289\n",
      "Epoch 40 | Loss: 6.167277812957764\n",
      "Epoch 60 | Loss: 4.397270679473877\n",
      "Epoch 80 | Loss: 3.2088582515716553\n",
      "Epoch 100 | Loss: 2.4146032333374023\n",
      "Epoch 120 | Loss: 1.8868743181228638\n",
      "Epoch 140 | Loss: 1.5388613939285278\n",
      "Epoch 160 | Loss: 1.3116003274917603\n",
      "Epoch 180 | Loss: 1.1651171445846558\n",
      "Epoch 200 | Loss: 1.072369933128357\n",
      "Epoch 220 | Loss: 1.015112042427063\n",
      "Epoch 240 | Loss: 0.981076717376709\n",
      "Epoch 260 | Loss: 0.9620503783226013\n",
      "Epoch 280 | Loss: 0.9525626301765442\n",
      "Epoch 300 | Loss: 0.9489953517913818\n",
      "Epoch 320 | Loss: 0.9489763379096985\n",
      "Epoch 340 | Loss: 0.9509687423706055\n",
      "Epoch 360 | Loss: 0.9539925456047058\n",
      "Epoch 380 | Loss: 0.9574359655380249\n",
      "{'params': {'Dense_0': {'bias': Array([-2.9788084], dtype=float32), 'kernel': Array([[2.0023835]], dtype=float32)}}}\n"
     ]
    }
   ],
   "source": [
    "data_sz = 1000\n",
    "xs = np.linspace(0, 10, data_sz)\n",
    "ys = xs * 2 - 3\n",
    "ys += np.random.normal(0, 1, data_sz)\n",
    "n_train = int(0.6 * data_sz)\n",
    "x_train, y_train = xs[:n_train].reshape(-1, 1), ys[:n_train].reshape(-1, 1)\n",
    "x_test, y_test = xs[n_train:].reshape(-1, 1), ys[n_train:].reshape(-1, 1)\n",
    "\n",
    "class Network(nn.Module):\n",
    "\n",
    "    @nn.compact\n",
    "    def __call__(self, x):\n",
    "        x = nn.Dense(1)(x)\n",
    "        # x = nn.Dense(1)(x)\n",
    "        return x\n",
    "\n",
    "model = Network()\n",
    "rng = jax.random.key(0)\n",
    "params = model.init(rng, jnp.ones([1]))\n",
    "\n",
    "epochs = 400\n",
    "lr = 0.02\n",
    "\n",
    "@jax.jit\n",
    "def update_params(params, learning_rate, grads):\n",
    "  params = jax.tree_util.tree_map(\n",
    "      lambda p, g: p - learning_rate * g, params, grads)\n",
    "  return params\n",
    "\n",
    "@jax.jit\n",
    "def mse_loss(params, x, y):\n",
    "    pred_y = model.apply(params, x)\n",
    "    return jnp.mean(jnp.square(pred_y - y))\n",
    "\n",
    "loss_fcn = jax.value_and_grad(mse_loss)\n",
    "\n",
    "for e in range(epochs):\n",
    "    loss_val, grads = loss_fcn(params, x_train, y_train)\n",
    "    params = update_params(params, lr, grads)\n",
    "\n",
    "    if e % 20 == 0:\n",
    "        test_loss, _g = loss_fcn(params, x_test, y_test)\n",
    "        print(f\"Epoch {e} | Loss: {test_loss}\")\n",
    "\n",
    "print(params)\n"
   ]
  }
 ],
 "metadata": {
  "kernelspec": {
   "display_name": "Python 3",
   "language": "python",
   "name": "python3"
  },
  "language_info": {
   "codemirror_mode": {
    "name": "ipython",
    "version": 3
   },
   "file_extension": ".py",
   "mimetype": "text/x-python",
   "name": "python",
   "nbconvert_exporter": "python",
   "pygments_lexer": "ipython3",
   "version": "3.9.9"
  }
 },
 "nbformat": 4,
 "nbformat_minor": 2
}
